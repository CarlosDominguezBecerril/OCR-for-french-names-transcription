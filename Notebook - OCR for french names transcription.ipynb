{
 "cells": [
  {
   "cell_type": "markdown",
   "metadata": {},
   "source": [
    "# French name transcription from handwriting using deep learning"
   ]
  },
  {
   "cell_type": "markdown",
   "metadata": {},
   "source": [
    "Author: Carlos Domínguez Becerril"
   ]
  },
  {
   "cell_type": "markdown",
   "metadata": {},
   "source": [
    "### Abstract"
   ]
  },
  {
   "cell_type": "markdown",
   "metadata": {},
   "source": [
    "Handwriting optical character recognition (OCR) is the process of automatically extracting handwritten information from paper, scans and other low-quality digital documents. The intend of this project is to build a deep neural network that is able transcribe 400.000 handwritten names collected through charity projects to support disadvantaged children around the world."
   ]
  },
  {
   "cell_type": "markdown",
   "metadata": {},
   "source": [
    "#### Warning: The notebook takes around 3 hours to execute using a GPU and around 7GiB of RAM."
   ]
  },
  {
   "cell_type": "markdown",
   "metadata": {},
   "source": [
    "The dataset can be found in the Appen machine learning repository. \n",
    "\n",
    "https://appen.com/datasets/handwritten-name-transcription-from-an-image/"
   ]
  },
  {
   "cell_type": "markdown",
   "metadata": {},
   "source": [
    "In order to make the notebook work download the dataset and create the next file system:\n",
    "\n",
    "- dataset (folder)\n",
    "    - train (folder)\n",
    "        - images (folder) -> The training images folder.\n",
    "        - training_metadata.csv (file) -> written_name_train_v2.csv file renamed.\n",
    "    - test (folder)\n",
    "        - images (folder) -> The testing images folder.\n",
    "        - test_metadata.csv (file) -> written_name_test_v2.csv file renamed.\n",
    "    - dev (folder)\n",
    "        - images (folder) -> The VALIDATION images folder.\n",
    "        - development_metadata.csv (file) -> written_name_validation_v2.csv file renamed.\n",
    " \n",
    " The parenthesis indicates wheter it is a file or a folder"
   ]
  },
  {
   "cell_type": "markdown",
   "metadata": {},
   "source": [
    "### Imports"
   ]
  },
  {
   "cell_type": "code",
   "execution_count": 1,
   "metadata": {},
   "outputs": [],
   "source": [
    "import torch\n",
    "import torchvision\n",
    "import torch.nn as nn\n",
    "import torch.nn.functional as F\n",
    "from torch.utils.data import Dataset, DataLoader\n",
    "import torchvision.transforms as T\n",
    "from torch.utils.data import random_split\n",
    "from torchvision.utils import make_grid, save_image\n",
    "from torchvision import models\n",
    "from torchsummary import summary\n",
    "\n",
    "from tqdm.notebook import tqdm\n",
    "\n",
    "import pandas as pd\n",
    "\n",
    "from PIL import Image\n",
    "\n",
    "import numpy as np\n",
    "\n",
    "import matplotlib.pyplot as plt\n",
    "import matplotlib.image as mpimg\n",
    "%matplotlib inline"
   ]
  },
  {
   "cell_type": "markdown",
   "metadata": {},
   "source": [
    "### Preparing the dataset"
   ]
  },
  {
   "cell_type": "markdown",
   "metadata": {},
   "source": [
    "#### Images and metadata paths"
   ]
  },
  {
   "cell_type": "code",
   "execution_count": 2,
   "metadata": {},
   "outputs": [],
   "source": [
    "train_images = \"./dataset/train/images/\"\n",
    "train_metadata = \"./dataset/train/training_metadata.csv\"\n",
    "development_images = \"./dataset/dev/images/\"\n",
    "development_metadata = \"./dataset/dev/development_metadata.csv\"\n",
    "test_images = \"./dataset/test/images/\"\n",
    "test_metadata = \"./dataset/test/test_metadata.csv\""
   ]
  },
  {
   "cell_type": "markdown",
   "metadata": {},
   "source": [
    "#### Global variables in order to train the model"
   ]
  },
  {
   "cell_type": "code",
   "execution_count": 3,
   "metadata": {},
   "outputs": [],
   "source": [
    "BATCH_SIZE = 32\n",
    "NUM_WORKERS = 4\n",
    "SHUFFLE = True\n",
    "PIN_MEMORY = True\n",
    "IMAGE_SIZE = (64, 256) # Height, width"
   ]
  },
  {
   "cell_type": "markdown",
   "metadata": {},
   "source": [
    "### Visualizing the dataset"
   ]
  },
  {
   "cell_type": "markdown",
   "metadata": {},
   "source": [
    "#### First check the format of the csv file "
   ]
  },
  {
   "cell_type": "code",
   "execution_count": 4,
   "metadata": {},
   "outputs": [],
   "source": [
    "csv = pd.read_csv(test_metadata)"
   ]
  },
  {
   "cell_type": "code",
   "execution_count": 5,
   "metadata": {
    "scrolled": true
   },
   "outputs": [
    {
     "data": {
      "text/html": [
       "<div>\n",
       "<style scoped>\n",
       "    .dataframe tbody tr th:only-of-type {\n",
       "        vertical-align: middle;\n",
       "    }\n",
       "\n",
       "    .dataframe tbody tr th {\n",
       "        vertical-align: top;\n",
       "    }\n",
       "\n",
       "    .dataframe thead th {\n",
       "        text-align: right;\n",
       "    }\n",
       "</style>\n",
       "<table border=\"1\" class=\"dataframe\">\n",
       "  <thead>\n",
       "    <tr style=\"text-align: right;\">\n",
       "      <th></th>\n",
       "      <th>FILENAME</th>\n",
       "      <th>IDENTITY</th>\n",
       "    </tr>\n",
       "  </thead>\n",
       "  <tbody>\n",
       "    <tr>\n",
       "      <th>0</th>\n",
       "      <td>TEST_0001.jpg</td>\n",
       "      <td>KEVIN</td>\n",
       "    </tr>\n",
       "    <tr>\n",
       "      <th>1</th>\n",
       "      <td>TEST_0002.jpg</td>\n",
       "      <td>CLOTAIRE</td>\n",
       "    </tr>\n",
       "    <tr>\n",
       "      <th>2</th>\n",
       "      <td>TEST_0003.jpg</td>\n",
       "      <td>LENA</td>\n",
       "    </tr>\n",
       "    <tr>\n",
       "      <th>3</th>\n",
       "      <td>TEST_0004.jpg</td>\n",
       "      <td>JULES</td>\n",
       "    </tr>\n",
       "    <tr>\n",
       "      <th>4</th>\n",
       "      <td>TEST_0005.jpg</td>\n",
       "      <td>CHERPIN</td>\n",
       "    </tr>\n",
       "  </tbody>\n",
       "</table>\n",
       "</div>"
      ],
      "text/plain": [
       "        FILENAME  IDENTITY\n",
       "0  TEST_0001.jpg     KEVIN\n",
       "1  TEST_0002.jpg  CLOTAIRE\n",
       "2  TEST_0003.jpg      LENA\n",
       "3  TEST_0004.jpg     JULES\n",
       "4  TEST_0005.jpg   CHERPIN"
      ]
     },
     "execution_count": 5,
     "metadata": {},
     "output_type": "execute_result"
    }
   ],
   "source": [
    "csv.head()"
   ]
  },
  {
   "cell_type": "markdown",
   "metadata": {},
   "source": [
    "#### Now we check a picture "
   ]
  },
  {
   "cell_type": "code",
   "execution_count": 6,
   "metadata": {},
   "outputs": [],
   "source": [
    "def show_example(img, name, open_file=False):\n",
    "    print(\"Name: \", name)\n",
    "    if open_file:\n",
    "        img_file = mpimg.imread(img)\n",
    "        plt.imshow(img_file)\n",
    "    else:\n",
    "        img_file = img\n",
    "        plt.imshow(img_file.squeeze(), cmap=\"gray\")\n"
   ]
  },
  {
   "cell_type": "code",
   "execution_count": 7,
   "metadata": {
    "scrolled": false
   },
   "outputs": [
    {
     "name": "stdout",
     "output_type": "stream",
     "text": [
      "Name:  KEVIN\n"
     ]
    },
    {
     "data": {
      "image/png": "[encoded data removed]",
      "text/plain": [
       "<Figure size 432x288 with 1 Axes>"
      ]
     },
     "metadata": {
      "needs_background": "light"
     },
     "output_type": "display_data"
    }
   ],
   "source": [
    "show_example(test_images + \"TEST_0001.jpg\", \"KEVIN\", True)"
   ]
  },
  {
   "cell_type": "markdown",
   "metadata": {},
   "source": [
    "#### Check for missing values and retrieve information about the dataset"
   ]
  },
  {
   "cell_type": "code",
   "execution_count": 8,
   "metadata": {},
   "outputs": [],
   "source": [
    "def missing_values(filename, name_info):\n",
    "    csv = pd.read_csv(filename)\n",
    "    missing_names = csv['IDENTITY'].isnull().sum() \n",
    "    missing_files = csv['FILENAME'].isnull().sum()\n",
    "    length = len(csv)\n",
    "    lower_case = csv['IDENTITY'].str.islower().sum()\n",
    "    upper_case = csv['IDENTITY'].str.isupper().sum()\n",
    "    incorrect_names = csv.index[~(csv['IDENTITY'].str.isupper() | csv['IDENTITY'].str.islower())]\n",
    "    unique_names = csv['IDENTITY'].unique()\n",
    "    unique_characters = set()\n",
    "    longest_name = 0\n",
    "    for name in unique_names:\n",
    "        if not isinstance(name, str):\n",
    "            continue\n",
    "        longest_name = max(longest_name, len(name))\n",
    "        for char in name:\n",
    "            unique_characters.add(char)\n",
    "    print(\"Checking\", name_info)\n",
    "    print(\"Length: {}\".format(length, name))\n",
    "    print(\"Missing names: {}\".format(missing_names, name))\n",
    "    print(\"Missing filenames: {}\".format(missing_files, name))\n",
    "    print(\"Names in lower case: \", lower_case)\n",
    "    print(\"Names in upper case: \", upper_case)\n",
    "    print(\"Incorrect names: \", len(incorrect_names)-missing_names)\n",
    "    print(\"Number of different names: \", len(unique_names))\n",
    "    print(\"Unique characters: \", unique_characters)\n",
    "    print(\"Longest name: \", longest_name)\n",
    "    print(\"\")"
   ]
  },
  {
   "cell_type": "code",
   "execution_count": 9,
   "metadata": {
    "scrolled": true
   },
   "outputs": [
    {
     "name": "stdout",
     "output_type": "stream",
     "text": [
      "Checking train\n",
      "Length: 330961\n",
      "Missing names: 565\n",
      "Missing filenames: 0\n",
      "Names in lower case:  13\n",
      "Names in upper case:  330366\n",
      "Incorrect names:  17\n",
      "Number of different names:  100540\n",
      "Unique characters:  {'U', 'R', 'I', 'C', 'F', 'v', '`', 'K', 'N', 'D', 'f', 'n', 'B', '-', 'O', 'W', 'M', 'c', 'E', 'P', 'Y', 'r', 's', 'l', 'V', 'g', 'G', 'a', 'z', 'o', 'y', 'i', 'Q', 'p', 'e', 'H', 'J', 'T', 'Z', ' ', 'X', 'm', \"'\", 'b', 'A', 'u', 'L', 'S', 'h', 't'}\n",
      "Longest name:  34\n",
      "\n",
      "Checking development\n",
      "Length: 41370\n",
      "Missing names: 78\n",
      "Missing filenames: 0\n",
      "Names in lower case:  2\n",
      "Names in upper case:  41290\n",
      "Incorrect names:  0\n",
      "Number of different names:  20228\n",
      "Unique characters:  {'U', 'I', 'R', 'C', 'F', 'K', 'N', 'D', 'n', 'B', '-', 'O', 'W', 'M', 'E', 'P', 'Y', 'r', 'l', 's', 'V', 'g', 'G', 'a', 'o', 'i', 'Q', 'p', 'H', 'J', 'T', 'Z', ' ', 'X', \"'\", 'A', 'u', 'L', 'S', 't'}\n",
      "Longest name:  21\n",
      "\n",
      "Checking test\n",
      "Length: 41370\n",
      "Missing names: 70\n",
      "Missing filenames: 0\n",
      "Names in lower case:  2\n",
      "Names in upper case:  41296\n",
      "Incorrect names:  2\n",
      "Number of different names:  20280\n",
      "Unique characters:  {'U', 'I', 'C', 'R', 'F', 'K', 'N', 'D', 'f', 'B', '-', 'O', 'W', 'M', 'c', 'd', 'E', 'P', 'Y', 'r', 'l', 's', 'V', 'G', 'a', 'o', 'i', 'Q', 'e', 'H', 'J', 'T', 'Z', ' ', 'X', \"'\", 'A', 'u', 'L', 'S', 't'}\n",
      "Longest name:  24\n",
      "\n"
     ]
    }
   ],
   "source": [
    "missing_values(train_metadata, \"train\")\n",
    "missing_values(development_metadata, \"development\")\n",
    "missing_values(test_metadata, \"test\")"
   ]
  },
  {
   "cell_type": "markdown",
   "metadata": {},
   "source": [
    "Problems found:\n",
    "\n",
    "- There are missing names\n",
    "- Some names are in upper case and others in lower case\n",
    "- There are incorrect names\n",
    "\n",
    "Decisions taken:\n",
    "\n",
    "- Delete the examples with missing names from the dataset because it only happens a low number of times.\n",
    "    - In training: 565 out of 330961 are missing values.\n",
    "    - In development: 78 out of 41370 are missing values.\n",
    "    - In testing: 70 out of 41370 are missing values.\n",
    "- Delete the examples with incorrect names from the dataset because it only happens a low number of times.\n",
    "    - In training: 13 out of 330961 are missing values.\n",
    "    - In development: 2 out of 41370 are missing values.\n",
    "    - In testing: 2 out of 41370 are missing values.\n",
    "- Convert to upper case the names in lower case."
   ]
  },
  {
   "cell_type": "markdown",
   "metadata": {},
   "source": [
    "### Preprocessing"
   ]
  },
  {
   "cell_type": "markdown",
   "metadata": {},
   "source": [
    "#### Remove the missing names and convert all the names to upper case"
   ]
  },
  {
   "cell_type": "code",
   "execution_count": 10,
   "metadata": {},
   "outputs": [],
   "source": [
    "def preprocessing(filename, name, out_file):\n",
    "    print(\"Checking\", name)\n",
    "    csv = pd.read_csv(filename)\n",
    "    \n",
    "    # Remove the missing values\n",
    "    csv.dropna(axis=0, inplace=True)\n",
    "    print(\"Missing names: \", csv['IDENTITY'].isnull().sum())\n",
    "    \n",
    "    # Convert the names to uppercase\n",
    "    csv['IDENTITY'] = csv['IDENTITY'].str.upper()\n",
    "    print(\"Names in lower case: \", csv['IDENTITY'].str.islower().sum())\n",
    "    \n",
    "    # Delete incorrect names\n",
    "    incorrect_names = csv.index[~(csv['IDENTITY'].str.isupper() | csv['IDENTITY'].str.islower())]\n",
    "    csv.drop(incorrect_names, inplace=True)\n",
    "    incorrect_names = csv.index[~(csv['IDENTITY'].str.isupper() | csv['IDENTITY'].str.islower())]\n",
    "    print(\"Incorrect names: \", len(incorrect_names))\n",
    "    print(\"\")\n",
    "    # Reset the index\n",
    "    csv.reset_index(inplace=True, drop=True)\n",
    "    \n",
    "    # Save the CSV\n",
    "    csv.to_csv(out_file, index=False)"
   ]
  },
  {
   "cell_type": "markdown",
   "metadata": {},
   "source": [
    "preprocess the files"
   ]
  },
  {
   "cell_type": "code",
   "execution_count": 11,
   "metadata": {
    "scrolled": true
   },
   "outputs": [
    {
     "name": "stdout",
     "output_type": "stream",
     "text": [
      "Checking train\n",
      "Missing names:  0\n",
      "Names in lower case:  0\n",
      "Incorrect names:  0\n",
      "\n",
      "Checking development\n",
      "Missing names:  0\n",
      "Names in lower case:  0\n",
      "Incorrect names:  0\n",
      "\n",
      "Checking test\n",
      "Missing names:  0\n",
      "Names in lower case:  0\n",
      "Incorrect names:  0\n",
      "\n"
     ]
    }
   ],
   "source": [
    "preprocessing(train_metadata, \"train\", \"./dataset/train/training_metadata_processed.csv\")\n",
    "preprocessing(development_metadata, \"development\", \"./dataset/dev/development_metadata_processed.csv\")\n",
    "preprocessing(test_metadata, \"test\", \"./dataset/test/test_metadata_processed.csv\")"
   ]
  },
  {
   "cell_type": "markdown",
   "metadata": {},
   "source": [
    "change the names of the files"
   ]
  },
  {
   "cell_type": "code",
   "execution_count": 12,
   "metadata": {},
   "outputs": [],
   "source": [
    "train_metadata = \"./dataset/train/training_metadata_processed.csv\"\n",
    "development_metadata = \"./dataset/dev/development_metadata_processed.csv\"\n",
    "test_metadata = \"./dataset/test/test_metadata_processed.csv\""
   ]
  },
  {
   "cell_type": "markdown",
   "metadata": {},
   "source": [
    "check again the data just in case something went wrong"
   ]
  },
  {
   "cell_type": "code",
   "execution_count": 13,
   "metadata": {},
   "outputs": [
    {
     "name": "stdout",
     "output_type": "stream",
     "text": [
      "Checking train\n",
      "Length: 330383\n",
      "Missing names: 0\n",
      "Missing filenames: 0\n",
      "Names in lower case:  0\n",
      "Names in upper case:  330383\n",
      "Incorrect names:  0\n",
      "Number of different names:  100522\n",
      "Unique characters:  {'U', 'R', 'I', 'C', 'F', '`', 'K', 'N', 'D', 'B', '-', 'O', 'W', 'M', 'E', 'P', 'Y', 'V', 'G', 'Q', 'H', 'J', 'T', 'Z', ' ', 'X', \"'\", 'A', 'L', 'S'}\n",
      "Longest name:  34\n",
      "\n",
      "Checking development\n",
      "Length: 41292\n",
      "Missing names: 0\n",
      "Missing filenames: 0\n",
      "Names in lower case:  0\n",
      "Names in upper case:  41292\n",
      "Incorrect names:  0\n",
      "Number of different names:  20226\n",
      "Unique characters:  {'U', 'I', 'R', 'C', 'F', 'K', 'N', 'D', 'B', '-', 'O', 'W', 'M', 'E', 'P', 'Y', 'V', 'G', 'Q', 'H', 'J', 'T', 'Z', ' ', 'X', \"'\", 'A', 'L', 'S'}\n",
      "Longest name:  21\n",
      "\n",
      "Checking test\n",
      "Length: 41299\n",
      "Missing names: 0\n",
      "Missing filenames: 0\n",
      "Names in lower case:  0\n",
      "Names in upper case:  41299\n",
      "Incorrect names:  0\n",
      "Number of different names:  20276\n",
      "Unique characters:  {'U', 'I', 'C', 'R', 'F', 'K', 'N', 'D', 'B', '-', 'O', 'W', 'M', 'E', 'P', 'Y', 'V', 'G', 'Q', 'H', 'J', 'T', 'Z', ' ', 'X', \"'\", 'A', 'L', 'S'}\n",
      "Longest name:  24\n",
      "\n"
     ]
    }
   ],
   "source": [
    "missing_values(train_metadata, \"train\")\n",
    "missing_values(development_metadata, \"development\")\n",
    "missing_values(test_metadata, \"test\")"
   ]
  },
  {
   "cell_type": "markdown",
   "metadata": {},
   "source": [
    "### Generating the dataset"
   ]
  },
  {
   "cell_type": "code",
   "execution_count": 14,
   "metadata": {},
   "outputs": [],
   "source": [
    "class NamesDataset(Dataset):\n",
    "    \n",
    "    def __init__(self, images_path, metadata_path, image_size=(64, 256)):\n",
    "        \n",
    "        # Store the paths\n",
    "        self.images_path = images_path\n",
    "        self.metadata_path = metadata_path\n",
    "        self.image_size = image_size\n",
    "        \n",
    "        # Transformations done to the image\n",
    "        self.transform = T.Compose([T.Resize(self.image_size), T.ToTensor()])\n",
    "        \n",
    "        # Characters position used in the dataset + # (hash) that will be used to set a character as a blank\n",
    "        self.characters_to_num = {char:x for x, char in enumerate(list(\"ABCDEFGHIJKLMNOPQRSTUVWXYZ -`'#\"))}\n",
    "        self.num_to_characters = {x:char for x, char in enumerate(list(\"ABCDEFGHIJKLMNOPQRSTUVWXYZ -`'#\"))}\n",
    "        \n",
    "        # The longest name has 34 characters\n",
    "        self.max_name_length = 34\n",
    "        \n",
    "        # First we read the csv file\n",
    "        csv = pd.read_csv(metadata_path)\n",
    "        \n",
    "        # We store the information about the csv\n",
    "        # The ids of the dataset\n",
    "        self.names_ids = []\n",
    "        # The filename_names of the dataset\n",
    "        self.image_filename = {}\n",
    "        # The name of the dataset\n",
    "        self.image_name = {}\n",
    "        \n",
    "        # We iterate throw the csv in order to save the filename and the identity of each example\n",
    "        for index, row in csv.iterrows():\n",
    "            self.names_ids.append(index)\n",
    "            self.image_filename[index] = row['FILENAME']\n",
    "            self.image_name[index] = row['IDENTITY']\n",
    "\n",
    "    def __len__(self):\n",
    "        # This function returns the number of examples in the dataset\n",
    "        return len(self.names_ids)\n",
    "    \n",
    "    def __getitem__(self, idx):\n",
    "        # This function returns information (img, one hot encoding vector and the name with padding) about \n",
    "        # the example number idx\n",
    "        \n",
    "        # First we obtain the name and the image filename according to the idx\n",
    "        index = self.names_ids[idx]\n",
    "        name = self.image_name[index]\n",
    "        image_path = self.images_path + self.image_filename[index]\n",
    "        \n",
    "        # Apply transformations to have the picture with the same size and in black and white\n",
    "        image = Image.open(image_path)\n",
    "        image = self.transform(image.convert(\"1\"))\n",
    "        \n",
    "        # Here we convert the name to a one hot vector\n",
    "        name_one_hot = []\n",
    "        for i in range(self.max_name_length):\n",
    "            if i < len(name):\n",
    "                name_one_hot += self.one_hot(name[i])\n",
    "            else:\n",
    "                name_one_hot += self.one_hot(\"#\")\n",
    "        \n",
    "        # Convert the name from characters to a list of numbers\n",
    "        name_tensor = torch.tensor(self.convert_name_to_num(name))\n",
    "        # Add extra padding as a form of # in order to have the same length\n",
    "        name_with_padding = torch.zeros(self.max_name_length)\n",
    "        name_with_padding[:] = self.characters_to_num[\"#\"]\n",
    "        name_with_padding[:len(name)] = name_tensor\n",
    "        \n",
    "        return torch.LongTensor(name_one_hot), name_with_padding, image\n",
    "    \n",
    "    def convert_name_to_num(self, name):\n",
    "        # Function to convert a name of characters to a list of numbers\n",
    "        numbers = []\n",
    "        for char in name:\n",
    "            numbers.append(self.characters_to_num[char])\n",
    "        return numbers\n",
    "    \n",
    "    def convert_num_to_name(self, nums):\n",
    "        # Function to convert a list of numbers to a name\n",
    "        out = []\n",
    "        for num in nums:\n",
    "            out.append(self.num_to_characters[num])\n",
    "        return \"\".join(out)\n",
    "    \n",
    "    def one_hot(self, char):\n",
    "        # Function to convert a char to a one hot vector\n",
    "        onehot = [0]*len(self.characters_to_num)\n",
    "        idx = self.characters_to_num[char]\n",
    "        onehot[idx] += 1\n",
    "        return onehot"
   ]
  },
  {
   "cell_type": "markdown",
   "metadata": {},
   "source": [
    "#### Create the datasets"
   ]
  },
  {
   "cell_type": "code",
   "execution_count": 15,
   "metadata": {},
   "outputs": [],
   "source": [
    "train_ds = NamesDataset(train_images, train_metadata, image_size=IMAGE_SIZE)\n",
    "dev_ds = NamesDataset(development_images, development_metadata, image_size=IMAGE_SIZE)\n",
    "test_ds = NamesDataset(test_images, test_metadata, image_size=IMAGE_SIZE)"
   ]
  },
  {
   "cell_type": "markdown",
   "metadata": {},
   "source": [
    "#### Check the lengths"
   ]
  },
  {
   "cell_type": "code",
   "execution_count": 16,
   "metadata": {},
   "outputs": [
    {
     "name": "stdout",
     "output_type": "stream",
     "text": [
      "Train length: 330383\n",
      "Dev length: 41292\n",
      "Test length: 41299\n"
     ]
    }
   ],
   "source": [
    "print(\"Train length:\", len(train_ds))\n",
    "print(\"Dev length:\", len(dev_ds))\n",
    "print(\"Test length:\", len(test_ds))"
   ]
  },
  {
   "cell_type": "markdown",
   "metadata": {},
   "source": [
    "#### Generate the dataloaders"
   ]
  },
  {
   "cell_type": "code",
   "execution_count": 17,
   "metadata": {},
   "outputs": [],
   "source": [
    "train_dl = DataLoader(train_ds, BATCH_SIZE, shuffle=SHUFFLE, num_workers=NUM_WORKERS, pin_memory=PIN_MEMORY)\n",
    "dev_dl = DataLoader(dev_ds, BATCH_SIZE, num_workers=NUM_WORKERS, pin_memory=PIN_MEMORY)\n",
    "test_dl = DataLoader(test_ds, BATCH_SIZE, num_workers=NUM_WORKERS, pin_memory=PIN_MEMORY)"
   ]
  },
  {
   "cell_type": "markdown",
   "metadata": {},
   "source": [
    "#### Check one picture "
   ]
  },
  {
   "cell_type": "code",
   "execution_count": 18,
   "metadata": {
    "scrolled": true
   },
   "outputs": [
    {
     "name": "stdout",
     "output_type": "stream",
     "text": [
      "Name in numbers: tensor([10.,  4., 21.,  8., 13., 30., 30., 30., 30., 30., 30., 30., 30., 30.,\n",
      "        30., 30., 30., 30., 30., 30., 30., 30., 30., 30., 30., 30., 30., 30.,\n",
      "        30., 30., 30., 30., 30., 30.])\n",
      "Name in characters:  KEVIN#############################\n",
      "Name in one hot encoding: tensor([0, 0, 0,  ..., 0, 0, 1])\n",
      "Name:  KEVIN#############################\n"
     ]
    },
    {
     "data": {
      "image/png": "[encoded data removed]",
      "text/plain": [
       "<Figure size 432x288 with 1 Axes>"
      ]
     },
     "metadata": {
      "needs_background": "light"
     },
     "output_type": "display_data"
    }
   ],
   "source": [
    "name_one_hot, name, img = test_ds[0]\n",
    "print(\"Name in numbers:\", name)\n",
    "print(\"Name in characters: \", train_ds.convert_num_to_name(name.numpy()))\n",
    "print(\"Name in one hot encoding:\", name_one_hot)\n",
    "show_example(img, train_ds.convert_num_to_name(name.numpy()))"
   ]
  },
  {
   "cell_type": "markdown",
   "metadata": {},
   "source": [
    "#### Check one batch"
   ]
  },
  {
   "cell_type": "code",
   "execution_count": 19,
   "metadata": {},
   "outputs": [],
   "source": [
    "def show_batch(dataloader):\n",
    "    for name_one_hot, name, image in dataloader:\n",
    "        print(\"Name:\", [train_ds.convert_num_to_name(name.numpy()[k]) for k in range(len(name))])\n",
    "        fig, ax = plt.subplots(figsize=(20,20))\n",
    "        ax.set_xticks([])\n",
    "        ax.set_yticks([])\n",
    "        ax.imshow(make_grid(image, nrow=2).permute(1,2,0))\n",
    "        break"
   ]
  },
  {
   "cell_type": "code",
   "execution_count": 20,
   "metadata": {
    "scrolled": true
   },
   "outputs": [
    {
     "name": "stdout",
     "output_type": "stream",
     "text": [
      "Name: ['BILEL#############################', 'LAUMIONIER########################', 'LEA###############################', 'JEAN-ROCH#########################', 'RUPP##############################', 'UNREADABLE########################', 'PICHON############################', 'DANIEL############################', 'JEREMY############################', 'JEAN-MICHEL#######################', 'JULIEN############################', 'NAEL##############################', 'BILGER############################', 'TIFFANY###########################', 'ELEEN#############################', 'ANTOINE###########################', 'AYOUB#############################', 'MINETTE###########################', 'RAINGEVAL#########################', 'CELESTIN##########################', 'DIBENEDETTO#######################', 'MATHIS############################', 'LOUNA#############################', 'SEVESTRE##########################', 'DAVANLAY##########################', 'HOCQUARD##########################', 'LEBRUN############################', 'DABIN#############################', 'SENDOUBI##########################', 'DI PASQUALE#######################', 'PRIVAT############################', 'HUGO##############################']\n"
     ]
    },
    {
     "data": {
      "image/png": "[encoded data removed]",
      "text/plain": [
       "<Figure size 1440x1440 with 1 Axes>"
      ]
     },
     "metadata": {},
     "output_type": "display_data"
    }
   ],
   "source": [
    "show_batch(dev_dl)"
   ]
  },
  {
   "cell_type": "markdown",
   "metadata": {},
   "source": [
    "We see that some pictures have also written the word \"prenom\", \"nom\", etc. It would fine to delete these but there is no pattern we can follow."
   ]
  },
  {
   "cell_type": "markdown",
   "metadata": {},
   "source": [
    "### Implementation of the neural network"
   ]
  },
  {
   "cell_type": "markdown",
   "metadata": {},
   "source": [
    "We use resnet18 as our model and fine tune the first and last layer\n",
    "\n",
    "- We fine tune the first layer because resnet18 expect an image of input size 224x224\n",
    "- We fine tune the last layer in order to have an output of size of len(train_ds.characters_to_num)*train_ds.max_name_length = 31 x 34 = 1054"
   ]
  },
  {
   "cell_type": "code",
   "execution_count": 21,
   "metadata": {},
   "outputs": [],
   "source": [
    "model = models.resnet18(pretrained=False)\n",
    "model.conv1 = nn.Conv2d(1, 64, kernel_size=(7, 7), stride=(2, 2), padding=(3, 3), bias=False)\n",
    "model.fc = nn.Linear(in_features=512, out_features=len(train_ds.characters_to_num)*train_ds.max_name_length, bias=True)"
   ]
  },
  {
   "cell_type": "markdown",
   "metadata": {},
   "source": [
    "Functions to use the GPU or CPU"
   ]
  },
  {
   "cell_type": "code",
   "execution_count": 22,
   "metadata": {},
   "outputs": [],
   "source": [
    "def get_default_device():\n",
    "    \"\"\"Pick GPU if available, else CPU\"\"\"\n",
    "    if torch.cuda.is_available():\n",
    "        return torch.device('cuda')\n",
    "    else:\n",
    "        return torch.device('cpu')\n",
    "    \n",
    "def to_device(data, device):\n",
    "    \"\"\"Move tensor(s) to chosen device\"\"\"\n",
    "    if isinstance(data, (list,tuple)):\n",
    "        return [to_device(x, device) for x in data]\n",
    "    return data.to(device, non_blocking=True)\n",
    "\n",
    "class DeviceDataLoader():\n",
    "    \"\"\"Wrap a dataloader to move data to a device\"\"\"\n",
    "    def __init__(self, dl, device):\n",
    "        self.dl = dl\n",
    "        self.device = device\n",
    "        \n",
    "    def __iter__(self):\n",
    "        \"\"\"Yield a batch of data after moving it to device\"\"\"\n",
    "        for b in self.dl: \n",
    "            yield to_device(b, self.device)\n",
    "\n",
    "    def __len__(self):\n",
    "        \"\"\"Number of batches\"\"\"\n",
    "        return len(self.dl)"
   ]
  },
  {
   "cell_type": "code",
   "execution_count": 23,
   "metadata": {
    "scrolled": true
   },
   "outputs": [
    {
     "data": {
      "text/plain": [
       "device(type='cuda')"
      ]
     },
     "execution_count": 23,
     "metadata": {},
     "output_type": "execute_result"
    }
   ],
   "source": [
    "device = get_default_device()\n",
    "device"
   ]
  },
  {
   "cell_type": "markdown",
   "metadata": {},
   "source": [
    "#### Now we convert all the dataloaders and model to GPU or CPU"
   ]
  },
  {
   "cell_type": "code",
   "execution_count": 24,
   "metadata": {
    "scrolled": true
   },
   "outputs": [],
   "source": [
    "train_dl = DeviceDataLoader(train_dl, device)\n",
    "dev_dl = DeviceDataLoader(dev_dl, device)\n",
    "test_dl = DeviceDataLoader(test_dl, device)\n",
    "model = to_device(model, device)"
   ]
  },
  {
   "cell_type": "markdown",
   "metadata": {},
   "source": [
    "#### Summary of the model"
   ]
  },
  {
   "cell_type": "code",
   "execution_count": 25,
   "metadata": {
    "scrolled": true
   },
   "outputs": [
    {
     "name": "stdout",
     "output_type": "stream",
     "text": [
      "----------------------------------------------------------------\n",
      "        Layer (type)               Output Shape         Param #\n",
      "================================================================\n",
      "            Conv2d-1          [-1, 64, 32, 128]           3,136\n",
      "       BatchNorm2d-2          [-1, 64, 32, 128]             128\n",
      "              ReLU-3          [-1, 64, 32, 128]               0\n",
      "         MaxPool2d-4           [-1, 64, 16, 64]               0\n",
      "            Conv2d-5           [-1, 64, 16, 64]          36,864\n",
      "       BatchNorm2d-6           [-1, 64, 16, 64]             128\n",
      "              ReLU-7           [-1, 64, 16, 64]               0\n",
      "            Conv2d-8           [-1, 64, 16, 64]          36,864\n",
      "       BatchNorm2d-9           [-1, 64, 16, 64]             128\n",
      "             ReLU-10           [-1, 64, 16, 64]               0\n",
      "       BasicBlock-11           [-1, 64, 16, 64]               0\n",
      "           Conv2d-12           [-1, 64, 16, 64]          36,864\n",
      "      BatchNorm2d-13           [-1, 64, 16, 64]             128\n",
      "             ReLU-14           [-1, 64, 16, 64]               0\n",
      "           Conv2d-15           [-1, 64, 16, 64]          36,864\n",
      "      BatchNorm2d-16           [-1, 64, 16, 64]             128\n",
      "             ReLU-17           [-1, 64, 16, 64]               0\n",
      "       BasicBlock-18           [-1, 64, 16, 64]               0\n",
      "           Conv2d-19           [-1, 128, 8, 32]          73,728\n",
      "      BatchNorm2d-20           [-1, 128, 8, 32]             256\n",
      "             ReLU-21           [-1, 128, 8, 32]               0\n",
      "           Conv2d-22           [-1, 128, 8, 32]         147,456\n",
      "      BatchNorm2d-23           [-1, 128, 8, 32]             256\n",
      "           Conv2d-24           [-1, 128, 8, 32]           8,192\n",
      "      BatchNorm2d-25           [-1, 128, 8, 32]             256\n",
      "             ReLU-26           [-1, 128, 8, 32]               0\n",
      "       BasicBlock-27           [-1, 128, 8, 32]               0\n",
      "           Conv2d-28           [-1, 128, 8, 32]         147,456\n",
      "      BatchNorm2d-29           [-1, 128, 8, 32]             256\n",
      "             ReLU-30           [-1, 128, 8, 32]               0\n",
      "           Conv2d-31           [-1, 128, 8, 32]         147,456\n",
      "      BatchNorm2d-32           [-1, 128, 8, 32]             256\n",
      "             ReLU-33           [-1, 128, 8, 32]               0\n",
      "       BasicBlock-34           [-1, 128, 8, 32]               0\n",
      "           Conv2d-35           [-1, 256, 4, 16]         294,912\n",
      "      BatchNorm2d-36           [-1, 256, 4, 16]             512\n",
      "             ReLU-37           [-1, 256, 4, 16]               0\n",
      "           Conv2d-38           [-1, 256, 4, 16]         589,824\n",
      "      BatchNorm2d-39           [-1, 256, 4, 16]             512\n",
      "           Conv2d-40           [-1, 256, 4, 16]          32,768\n",
      "      BatchNorm2d-41           [-1, 256, 4, 16]             512\n",
      "             ReLU-42           [-1, 256, 4, 16]               0\n",
      "       BasicBlock-43           [-1, 256, 4, 16]               0\n",
      "           Conv2d-44           [-1, 256, 4, 16]         589,824\n",
      "      BatchNorm2d-45           [-1, 256, 4, 16]             512\n",
      "             ReLU-46           [-1, 256, 4, 16]               0\n",
      "           Conv2d-47           [-1, 256, 4, 16]         589,824\n",
      "      BatchNorm2d-48           [-1, 256, 4, 16]             512\n",
      "             ReLU-49           [-1, 256, 4, 16]               0\n",
      "       BasicBlock-50           [-1, 256, 4, 16]               0\n",
      "           Conv2d-51            [-1, 512, 2, 8]       1,179,648\n",
      "      BatchNorm2d-52            [-1, 512, 2, 8]           1,024\n",
      "             ReLU-53            [-1, 512, 2, 8]               0\n",
      "           Conv2d-54            [-1, 512, 2, 8]       2,359,296\n",
      "      BatchNorm2d-55            [-1, 512, 2, 8]           1,024\n",
      "           Conv2d-56            [-1, 512, 2, 8]         131,072\n",
      "      BatchNorm2d-57            [-1, 512, 2, 8]           1,024\n",
      "             ReLU-58            [-1, 512, 2, 8]               0\n",
      "       BasicBlock-59            [-1, 512, 2, 8]               0\n",
      "           Conv2d-60            [-1, 512, 2, 8]       2,359,296\n",
      "      BatchNorm2d-61            [-1, 512, 2, 8]           1,024\n",
      "             ReLU-62            [-1, 512, 2, 8]               0\n",
      "           Conv2d-63            [-1, 512, 2, 8]       2,359,296\n",
      "      BatchNorm2d-64            [-1, 512, 2, 8]           1,024\n",
      "             ReLU-65            [-1, 512, 2, 8]               0\n",
      "       BasicBlock-66            [-1, 512, 2, 8]               0\n",
      "AdaptiveAvgPool2d-67            [-1, 512, 1, 1]               0\n",
      "           Linear-68                 [-1, 1054]         540,702\n",
      "================================================================\n",
      "Total params: 11,710,942\n",
      "Trainable params: 11,710,942\n",
      "Non-trainable params: 0\n",
      "----------------------------------------------------------------\n",
      "Input size (MB): 0.06\n",
      "Forward/backward pass size (MB): 20.51\n",
      "Params size (MB): 44.67\n",
      "Estimated Total Size (MB): 65.25\n",
      "----------------------------------------------------------------\n"
     ]
    }
   ],
   "source": [
    "summary(model, (1, 64, 256))"
   ]
  },
  {
   "cell_type": "markdown",
   "metadata": {},
   "source": [
    "### Execution of the neural network"
   ]
  },
  {
   "cell_type": "code",
   "execution_count": 26,
   "metadata": {},
   "outputs": [],
   "source": [
    "epochs = 10\n",
    "max_lr = 1e-4\n",
    "opt_func = torch.optim.Adam"
   ]
  },
  {
   "cell_type": "code",
   "execution_count": 27,
   "metadata": {},
   "outputs": [],
   "source": [
    "@torch.no_grad()\n",
    "def eval_model(model, val_loader):\n",
    "    model.eval()\n",
    "    torch.cuda.empty_cache()\n",
    "    outputs = []\n",
    "    loss_func = nn.MultiLabelSoftMarginLoss()\n",
    "    for batch in tqdm(val_loader):\n",
    "        name_one_hot, name, img = batch\n",
    "        model_out = model(img)\n",
    "        loss = loss_func(model_out, name_one_hot)\n",
    "        outputs.append(loss.detach())\n",
    "    return torch.stack(outputs).mean().item()"
   ]
  },
  {
   "cell_type": "code",
   "execution_count": 28,
   "metadata": {},
   "outputs": [],
   "source": [
    "def train_model(epochs, max_lr, model, train_loader, dev_loader, test_loader, opt_func=torch.optim.Adam):\n",
    "    torch.cuda.empty_cache()\n",
    "    history = []\n",
    "    optimizer = opt_func(model.parameters(), max_lr)\n",
    "    loss_func = nn.MultiLabelSoftMarginLoss()\n",
    "    \n",
    "    for epoch in range(epochs):\n",
    "        model.train()\n",
    "        train_losses = []\n",
    "        print(\"Starting epoch: \", epoch+1)\n",
    "        for batch in tqdm(train_loader):\n",
    "            name_one_hot, name, img = batch\n",
    "            model_out = model(img)\n",
    "            loss = loss_func(model_out, name_one_hot)\n",
    "            \n",
    "            train_losses.append(loss.detach())\n",
    "            \n",
    "            optimizer.zero_grad()\n",
    "            \n",
    "            loss.backward()\n",
    "                \n",
    "            optimizer.step()\n",
    "    \n",
    "        # Validation phase\n",
    "        print(\"Saving model...\")\n",
    "        torch.save(model.state_dict(), './checkpoints/checkpoint'+str(epoch)+'.pth')\n",
    "        result = {}\n",
    "        print(\"Model saved\")\n",
    "        print(\"Evaluating development data\")\n",
    "        result['dev_loss'] = eval_model(model, dev_loader)\n",
    "        print(\"Evaluating test data\")\n",
    "        result['test_loss'] = eval_model(model, test_loader)\n",
    "        result['train_loss'] = torch.stack(train_losses).mean().item()\n",
    "        print(\"Adding results to the history\")\n",
    "        history.append(result)\n",
    "        print(\"Train_loss: {} - dev_loss: {} - test_loss: {}\".format(result['train_loss'], result['dev_loss'], result['test_loss']))\n",
    "        \n",
    "    return history"
   ]
  },
  {
   "cell_type": "code",
   "execution_count": 29,
   "metadata": {},
   "outputs": [],
   "source": [
    "history = []"
   ]
  },
  {
   "cell_type": "code",
   "execution_count": 30,
   "metadata": {
    "execution": {
     "iopub.execute_input": "2020-11-29T10:34:11.522979Z",
     "iopub.status.busy": "2020-11-29T10:34:11.501002Z",
     "iopub.status.idle": "2020-11-29T11:55:06.462326Z",
     "shell.execute_reply": "2020-11-29T11:55:06.461719Z"
    },
    "papermill": {
     "duration": 4855.034321,
     "end_time": "2020-11-29T11:55:06.462453",
     "exception": false,
     "start_time": "2020-11-29T10:34:11.428132",
     "status": "completed"
    },
    "scrolled": true,
    "tags": []
   },
   "outputs": [
    {
     "name": "stdout",
     "output_type": "stream",
     "text": [
      "Starting epoch:  1\n",
      "\n",
      "Saving model...\n",
      "Model saved\n",
      "Evaluating development data\n",
      "\n",
      "Evaluating test data\n",
      "\n",
      "Adding results to the history\n",
      "Train_loss: 0.01674637943506241 - dev_loss: 0.007834164425730705 - test_loss: 0.007870558649301529\n",
      "Starting epoch:  2\n",
      "\n",
      "Saving model...\n",
      "Model saved\n",
      "Evaluating development data\n",
      "\n",
      "Evaluating test data\n",
      "\n",
      "Adding results to the history\n",
      "Train_loss: 0.006539111491292715 - dev_loss: 0.00538885360583663 - test_loss: 0.005414944142103195\n",
      "Starting epoch:  3\n",
      "\n",
      "Saving model...\n",
      "Model saved\n",
      "Evaluating development data\n",
      "\n",
      "Evaluating test data\n",
      "\n",
      "Adding results to the history\n",
      "Train_loss: 0.004963484592735767 - dev_loss: 0.004728035535663366 - test_loss: 0.004755984991788864\n",
      "Starting epoch:  4\n",
      "\n",
      "Saving model...\n",
      "Model saved\n",
      "Evaluating development data\n",
      "\n",
      "Evaluating test data\n",
      "\n",
      "Adding results to the history\n",
      "Train_loss: 0.004223657771945 - dev_loss: 0.004243419971317053 - test_loss: 0.004258438479155302\n",
      "Starting epoch:  5\n",
      "\n",
      "Saving model...\n",
      "Model saved\n",
      "Evaluating development data\n",
      "\n",
      "Evaluating test data\n",
      "\n",
      "Adding results to the history\n",
      "Train_loss: 0.0037502439226955175 - dev_loss: 0.004135957453399897 - test_loss: 0.0041411444544792175\n",
      "Starting epoch:  6\n",
      "\n",
      "Saving model...\n",
      "Model saved\n",
      "Evaluating development data\n",
      "\n",
      "Evaluating test data\n",
      "\n",
      "Adding results to the history\n",
      "Train_loss: 0.003384652081876993 - dev_loss: 0.0040057022124528885 - test_loss: 0.004010104574263096\n",
      "Starting epoch:  7\n",
      "\n",
      "Saving model...\n",
      "Model saved\n",
      "Evaluating development data\n",
      "\n",
      "Evaluating test data\n",
      "\n",
      "Adding results to the history\n",
      "Train_loss: 0.0030680045019835234 - dev_loss: 0.003950964659452438 - test_loss: 0.003962446004152298\n",
      "Starting epoch:  8\n",
      "\n",
      "Saving model...\n",
      "Model saved\n",
      "Evaluating development data\n",
      "\n",
      "Evaluating test data\n",
      "\n",
      "Adding results to the history\n",
      "Train_loss: 0.0027705510146915913 - dev_loss: 0.003888167440891266 - test_loss: 0.0039174496196210384\n",
      "Starting epoch:  9\n",
      "\n",
      "Saving model...\n",
      "Model saved\n",
      "Evaluating development data\n",
      "\n",
      "Evaluating test data\n",
      "\n",
      "Adding results to the history\n",
      "Train_loss: 0.0024860133416950703 - dev_loss: 0.003985611256211996 - test_loss: 0.003982433583587408\n",
      "Starting epoch:  10\n",
      "\n",
      "Saving model...\n",
      "Model saved\n",
      "Evaluating development data\n",
      "\n",
      "Evaluating test data\n",
      "\n",
      "Adding results to the history\n",
      "Train_loss: 0.0022131437435746193 - dev_loss: 0.004103878512978554 - test_loss: 0.004103693645447493\n"
     ]
    }
   ],
   "source": [
    "history += train_model(epochs, max_lr, model, train_dl, dev_dl, test_dl, opt_func)"
   ]
  },
  {
   "cell_type": "code",
   "execution_count": 31,
   "metadata": {},
   "outputs": [],
   "source": [
    "def plot_losses(history):\n",
    "    train_losses = [x.get('train_loss') for x in history]\n",
    "    dev_losses = [x['dev_loss'] for x in history]\n",
    "    test_losses = [x['test_loss'] for x in history]\n",
    "    plt.plot(train_losses, '-bx')\n",
    "    plt.plot(dev_losses, '-rx')\n",
    "    plt.plot(test_losses, '-gx')\n",
    "    plt.xlabel('epoch')\n",
    "    plt.ylabel('loss')\n",
    "    plt.legend(['Training', 'Development', \"Test\"])\n",
    "    plt.title('Loss vs. No. of epochs')"
   ]
  },
  {
   "cell_type": "markdown",
   "metadata": {},
   "source": [
    "#### Plot the loss of our model "
   ]
  },
  {
   "cell_type": "code",
   "execution_count": 32,
   "metadata": {},
   "outputs": [
    {
     "data": {
      "image/png": "[encoded data removed]",
      "text/plain": [
       "<Figure size 432x288 with 1 Axes>"
      ]
     },
     "metadata": {
      "needs_background": "light"
     },
     "output_type": "display_data"
    }
   ],
   "source": [
    "plot_losses(history)"
   ]
  },
  {
   "cell_type": "markdown",
   "metadata": {},
   "source": [
    "### Validation"
   ]
  },
  {
   "cell_type": "markdown",
   "metadata": {},
   "source": [
    "We validate our model calculating the accuracy in two different ways.\n",
    "\n",
    "- Accuracy based in whether the predicted name match the expected one\n",
    "- Accuracy based in the number of correctly matched characters compared to the expected ones."
   ]
  },
  {
   "cell_type": "markdown",
   "metadata": {},
   "source": [
    "The checkpoints can be downloaded from:\n",
    "\n",
    "https://drive.google.com/drive/folders/1YASskEzWqvSY4rZ6RseGdR0zWGgbNl3j?usp=sharing"
   ]
  },
  {
   "cell_type": "code",
   "execution_count": 33,
   "metadata": {},
   "outputs": [],
   "source": [
    "test_dl = DataLoader(test_ds, 1, num_workers=NUM_WORKERS, pin_memory=PIN_MEMORY)\n",
    "test_dl = DeviceDataLoader(test_dl, device)"
   ]
  },
  {
   "cell_type": "code",
   "execution_count": 34,
   "metadata": {},
   "outputs": [],
   "source": [
    "@torch.no_grad()\n",
    "def test_model_accuracy(model, val_loader, checkpoint_name, epoch):\n",
    "    model.eval()\n",
    "    model.load_state_dict(torch.load(checkpoint_name))\n",
    "    acc = 0\n",
    "    acc2 = 0\n",
    "    for batch in tqdm(val_loader):\n",
    "        name_one_hot, name, img = batch\n",
    "        pred = model(img)\n",
    "        sq = pred.squeeze().cpu().tolist()\n",
    "        out = []\n",
    "        # Get the one hot encoding for each character an apply argmax in order to obtain \n",
    "        # the one that has bigger probability.\n",
    "        for i in range(test_ds.max_name_length):\n",
    "            out.append(np.argmax(sq[i*len(test_ds.characters_to_num):(i+1)*len(test_ds.characters_to_num)]))\n",
    "        name_to_list = name.cpu().numpy()[0]\n",
    "        # Calculate name accuracy\n",
    "        if test_ds.convert_num_to_name(name_to_list) == test_ds.convert_num_to_name(out):\n",
    "            acc += 1\n",
    "        # Calculate character accuracy\n",
    "        for num in range(len(name_to_list)):\n",
    "            if name_to_list[num] == out[num]:\n",
    "                acc2 += 1  \n",
    "    print(\"Correctly matched names in epoch {} is: {}\".format(str(epoch),str(acc/len(val_loader))))\n",
    "    print(\"Correctly matched characters in epoch {} is: {}\".format(str(epoch),str(acc2/(len(val_loader)*34))))\n",
    "    return acc/len(val_loader), acc2/(len(val_loader)*34)"
   ]
  },
  {
   "cell_type": "code",
   "execution_count": 35,
   "metadata": {},
   "outputs": [],
   "source": [
    "accuracy_history = []"
   ]
  },
  {
   "cell_type": "code",
   "execution_count": 36,
   "metadata": {
    "execution": {
     "iopub.execute_input": "2020-11-29T15:55:49.752306Z",
     "iopub.status.busy": "2020-11-29T15:55:49.751601Z",
     "iopub.status.idle": "2020-11-29T16:59:22.324267Z",
     "shell.execute_reply": "2020-11-29T16:59:22.325387Z"
    },
    "papermill": {
     "duration": 3812.639406,
     "end_time": "2020-11-29T16:59:22.325581",
     "exception": false,
     "start_time": "2020-11-29T15:55:49.686175",
     "status": "completed"
    },
    "tags": []
   },
   "outputs": [
    {
     "name": "stdout",
     "output_type": "stream",
     "text": [
      "\n",
      "Correctly matched names in epoch 0 is: 0.4517675544794189\n",
      "Correctly matched characters in epoch 0 is: 0.9595399515738499\n",
      "\n",
      "Correctly matched names in epoch 1 is: 0.6185956416464891\n",
      "Correctly matched characters in epoch 1 is: 0.9737416322461188\n",
      "\n",
      "Correctly matched names in epoch 2 is: 0.6685714285714286\n",
      "Correctly matched characters in epoch 2 is: 0.9775737074490813\n",
      "\n",
      "Correctly matched names in epoch 3 is: 0.7034866828087167\n",
      "Correctly matched characters in epoch 3 is: 0.9800633812847173\n",
      "\n",
      "Correctly matched names in epoch 4 is: 0.7139951573849879\n",
      "Correctly matched characters in epoch 4 is: 0.9810233584959408\n",
      "\n",
      "Correctly matched names in epoch 5 is: 0.725181598062954\n",
      "Correctly matched characters in epoch 5 is: 0.9818636946303946\n",
      "\n",
      "Correctly matched names in epoch 6 is: 0.7291767554479419\n",
      "Correctly matched characters in epoch 6 is: 0.9822454066372311\n",
      "\n",
      "Correctly matched names in epoch 7 is: 0.7360290556900726\n",
      "Correctly matched characters in epoch 7 is: 0.9826321036889332\n",
      "\n",
      "Correctly matched names in epoch 8 is: 0.7419370460048426\n",
      "Correctly matched characters in epoch 8 is: 0.9829297820823245\n",
      "\n",
      "Correctly matched names in epoch 9 is: 0.7414285714285714\n",
      "Correctly matched characters in epoch 9 is: 0.9830437259649623\n"
     ]
    }
   ],
   "source": [
    "for i in range(10):\n",
    "    acc1, acc2 = test_model_accuracy(model, test_dl, \"./checkpoints/checkpoint\" + str(i) + \".pth\", i)\n",
    "    accuracy_history.append({\"names\":acc1, \"chars\":acc2})"
   ]
  },
  {
   "cell_type": "code",
   "execution_count": 37,
   "metadata": {},
   "outputs": [],
   "source": [
    "def plot_accuracy(history):\n",
    "    names = [x['names'] for x in history]\n",
    "    chars = [x['chars'] for x in history]\n",
    "    plt.plot(names, '-bx')\n",
    "    plt.plot(chars, '-rx')\n",
    "    plt.xlabel('epoch')\n",
    "    plt.ylabel('accuracy')\n",
    "    plt.legend(['Names', 'Characters'])\n",
    "    plt.title('Accuracy for each epoch')"
   ]
  },
  {
   "cell_type": "markdown",
   "metadata": {},
   "source": [
    "#### Checking the accuracy for each epoch"
   ]
  },
  {
   "cell_type": "code",
   "execution_count": 38,
   "metadata": {
    "scrolled": true
   },
   "outputs": [
    {
     "data": {
      "image/png": "[encoded data removed]",
      "text/plain": [
       "<Figure size 432x288 with 1 Axes>"
      ]
     },
     "metadata": {
      "needs_background": "light"
     },
     "output_type": "display_data"
    }
   ],
   "source": [
    "plot_accuracy(history)"
   ]
  },
  {
   "cell_type": "code",
   "execution_count": null,
   "metadata": {},
   "outputs": [],
   "source": []
  }
 ],
 "metadata": {
  "kernelspec": {
   "display_name": "Python 3",
   "language": "python",
   "name": "python3"
  },
  "language_info": {
   "codemirror_mode": {
    "name": "ipython",
    "version": 3
   },
   "file_extension": ".py",
   "mimetype": "text/x-python",
   "name": "python",
   "nbconvert_exporter": "python",
   "pygments_lexer": "ipython3",
   "version": "3.8.5"
  }
 },
 "nbformat": 4,
 "nbformat_minor": 4
}
